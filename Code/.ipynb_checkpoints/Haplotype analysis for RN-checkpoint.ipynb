{
 "cells": [
  {
   "cell_type": "code",
   "execution_count": 1,
   "metadata": {},
   "outputs": [],
   "source": [
    "import numpy as np\n",
    "import pandas as pd\n",
    "import matplotlib as mpl\n",
    "import matplotlib.pyplot as plt\n",
    "import seaborn as sns"
   ]
  },
  {
   "cell_type": "code",
   "execution_count": 79,
   "metadata": {},
   "outputs": [],
   "source": [
    "#Re-import as per \"Read amplicons and summaries.ipynb\"\n",
    "\n",
    "#Import the data and flip into a multi index \n",
    "df = pd.read_csv('../Data/allele_counts.tsv', header = [0,1,2], index_col = 0, sep='\\t')\n",
    "df = df.stack([0,1,2])\n",
    "df = df.reorder_levels([1,0,2,3])\n",
    "df = df.to_frame()  #puts everything back in a dataframe\n",
    "df.columns = ['Reads']\n",
    "df['Plate'] = df.index.get_level_values(0)  #These lines send indexes to columns\n",
    "df['Well'] = df.index.get_level_values(1)\n",
    "df['Amplicon'] = df.index.get_level_values(2)\n",
    "df['Genotype'] = df.index.get_level_values(3)\n",
    "df[['Patient', 'one', 'two']] = df['Amplicon'].str.split('_', expand = True)\n",
    "df = df.drop(columns = ['one', 'two'])\n",
    "\n",
    "#Import information about plate cell type and patient\n",
    "key = pd.read_excel('../Data/Amplicon_metadata_fixed.xlsx', sheet_name = 'PlateID')\n",
    "key = key.drop(['Cell Origin', 'Plate Nr', 'Plate Name','Nr of cells', 'fcs-fle' ], axis=1)\n",
    "key.rename(columns = {'Comments2':'Plate'}, inplace = True)\n",
    "key.rename(columns = {'Cell-group':'Celltype'}, inplace = True)\n",
    "\n",
    "#Make a dictionary to associate plates with patients and plate with cell type\n",
    "plate_pt_dict = dict(zip(key.Plate, key.Patient))\n",
    "plate_cell_dict = dict(zip(key.Plate, key.Celltype))\n",
    "\n",
    "#Set up some lists for iteration\n",
    "patients = ['RN', 'EL', 'GR']\n",
    "plates = df['Plate'].drop_duplicates().to_list()\n",
    "amplicons = df['Amplicon'].drop_duplicates().to_list()\n",
    "genos = df['Genotype'].drop_duplicates().to_list()\n",
    "wells = df['Well'].drop_duplicates().to_list()"
   ]
  },
  {
   "cell_type": "code",
   "execution_count": 80,
   "metadata": {},
   "outputs": [],
   "source": [
    "#Now just look at RN data, and apply filters to identify cells with enough reads/amplicon\n",
    "RN_allele_plate = df.loc[df['Patient'].isin(['RN'])] #Make df with just RN data\n",
    "RN_allele_plate = RN_allele_plate.drop(columns = 'Patient') #Drop the Patient ID column and other unwanted cols\n",
    "\n",
    "#Find the cells/wells that contain >100 reads for the selected amplicons and turn into a list \n",
    "#Re-arrange the table\n",
    "df2 = RN_allele_plate.groupby(['Plate', 'Well', 'Amplicon']).sum()\n",
    "df2 = df2.unstack()\n",
    "df2 = df2.iloc[:, 0:4] #Just keep the columns of interest\n",
    "df2 = df2.loc[(df2 >= 100).all(axis=1)] #df2 contains just the rows with cells we want - use this to create a filter or key\n",
    "df2 = df2.stack()\n",
    "\n",
    "#Make the plate and well info a single column and put in a list\n",
    "df2['Plate'] = df2.index.get_level_values(0)  #These lines send indexes to columns\n",
    "df2['Well'] = df2.index.get_level_values(1)\n",
    "df2['Plate_Well'] = df2['Plate'].astype(str) + '_' + df2['Well'].astype(str)\n",
    "RN_wells = df2['Plate_Well'].to_list() #RN_wells is the list of wells that fulfill the desired criteria\n",
    "\n",
    "#Make a file with the allele counts per well for all wells\n",
    "df3 = RN_allele_plate.groupby(['Plate', 'Well', 'Amplicon']).sum()\n",
    "df3 = df3.unstack(2)\n",
    "df3['Plate'] = df3.index.get_level_values(0)\n",
    "df3['Cell_type'] = df3['Plate'].replace(plate_cell_dict)\n",
    "df3.to_csv('../Results/Amp_counts/RN_all_cells_reads_per_amplicon.tsv',  sep = '\\t')"
   ]
  },
  {
   "cell_type": "code",
   "execution_count": 81,
   "metadata": {},
   "outputs": [],
   "source": [
    "#Extract data just for the desired cells/wells\n",
    "RN_allele_plate['Plate_Well'] = RN_allele_plate['Plate'].astype(str) + '_' + RN_allele_plate['Well'].astype(str)\n",
    "RN_allele_plate = RN_allele_plate[RN_allele_plate['Plate_Well'].isin(RN_wells)] #keep the wells identified before\n",
    "RN_allele_plate = RN_allele_plate[RN_allele_plate['Amplicon'].isin(['RN_RUNX1_c', 'RN_RUNX1_g', 'RN_SRSF2', 'RN_TET2a'] )] #keep the amplicons that worked\n",
    "\n",
    "#Calculates the allele frequency and saves the output into a .csv file\n",
    "RN_allele_plate = RN_allele_plate.iloc[:, 0:1].unstack(level = 3)\n",
    "RN_allele_plate['Total'] = RN_allele_plate.iloc[: , 0] + RN_allele_plate.iloc[: , 1]\n",
    "RN_allele_plate['Mut_freq'] = RN_allele_plate.iloc[:, 0]/RN_allele_plate['Total']\n",
    "RN_allele_plate.to_csv('../Results/Geno_counts/geno_counts_frequencies_raw_reads.tsv', index = None, sep = '\\t')\n",
    "\n",
    "#Convert into easily plottable format and save the output to a .csv file\n",
    "RN_allele_plate = RN_allele_plate.drop(columns = ['Reads', 'Total'])\n",
    "RN_allele_plate['Plate'] = RN_allele_plate.index.get_level_values(0)\n",
    "RN_allele_plate['Amplicon'] = RN_allele_plate.index.get_level_values(2)\n",
    "RN_allele_plate['Cell_type'] = RN_allele_plate['Plate'].replace(plate_cell_dict)\n",
    "RN_allele_plate['Well'] = RN_allele_plate.index.get_level_values(1)\n",
    "RN_allele_plate['Plate_Well'] = RN_allele_plate['Plate'].astype(str) + '_' + RN_allele_plate['Well'].astype(str)\n",
    "RN_allele_plate.to_csv('../Results/Geno_counts/geno_counts_frequencies.tsv', index = None, sep = '\\t')\n",
    " \n",
    "#Make a list of cell types\n",
    "#Note there are no neutrophils because the RUNX1_c amplicon isn't great (probably not expressed)\n",
    "celltypes = RN_allele_plate['Cell_type'].drop_duplicates().to_list()"
   ]
  },
  {
   "cell_type": "code",
   "execution_count": 180,
   "metadata": {},
   "outputs": [
    {
     "name": "stdout",
     "output_type": "stream",
     "text": [
      "The number of haplotypes present using 3 genotypes is:  17\n"
     ]
    }
   ],
   "source": [
    "#Assign three arbitrary genotypes - WT, het, hom\n",
    "geno_assign3 = RN_allele_plate\n",
    "conditions = [(geno_assign3['Mut_freq'] <= 0.25), (geno_assign3['Mut_freq'] > 0.25) & (geno_assign3['Mut_freq'] < 0.75), (geno_assign3['Mut_freq']) >= 0.75 ]\n",
    "values = ['w', 'h', 'H']\n",
    "geno_assign3['Genotype'] = np.select(conditions, values)\n",
    "values3 = [0,1,2] #include a numerical score for number of mutations\n",
    "geno_assign3['Order'] = np.select(conditions, values3)\n",
    "geno_assign3 = geno_assign3.unstack(2)\n",
    "geno_assign3 = geno_assign3.drop(columns = ['Mut_freq', 'Plate',  'Cell_type', 'Well', 'Plate_Well']) #drop unwanted columns\n",
    "\n",
    "#Rearrange df\n",
    "geno_assign3 = geno_assign3.stack()\n",
    "geno_assign3 = geno_assign3.loc[geno_assign3['Amplicon'].isin(['RN_RUNX1_g', 'RN_SRSF2', 'RN_TET2a'])]  #drop RUNX1 cDNA for simplicity\n",
    "geno_assign3 = geno_assign3.drop(columns = ['Amplicon'])\n",
    "geno_assign3 = geno_assign3.unstack()\n",
    "geno_assign3['Mut_score'] = geno_assign3.iloc[:, 3:6].sum(axis = 1)  #add the mutation scores together\n",
    "geno_assign3 = geno_assign3.drop(columns = ['Order'])\n",
    "geno_assign3.columns = ['RN_RUNX1_g', 'RN_SRSF2', 'RN_TET2a', 'Mut_score'] #renaming as something went funny in previous steps\n",
    "\n",
    "geno_assign3['haplotype'] = 'R' + geno_assign3['RN_RUNX1_g'] + '_S' + geno_assign3['RN_SRSF2'] + '_T' + geno_assign3['RN_TET2a']\n",
    "haps = geno_assign3['haplotype'].drop_duplicates().to_list()\n",
    "geno_assign3['Cell_type'] = geno_assign3.index.get_level_values(0)\n",
    "geno_assign3 = geno_assign3.replace({'Cell_type': plate_cell_dict})\n",
    "geno_assign3 = geno_assign3.drop(columns = ['RN_RUNX1_g', 'RN_SRSF2', 'RN_TET2a'])\n",
    "print('The number of haplotypes present using 3 genotypes is: ', len(haps)) # haplotypes (3 arbitrary classes, WT (W), heterozygote (h), homozygote (H))"
   ]
  },
  {
   "cell_type": "code",
   "execution_count": 209,
   "metadata": {},
   "outputs": [],
   "source": [
    "#Plot three haplotype data\n",
    "fig, axes = plt.subplots(2,2, figsize = (16,8))\n",
    "fig.subplots_adjust(hspace = 1, wspace=.5)\n",
    "ax = axes.ravel()\n",
    "count = -1\n",
    "\n",
    "for cell in celltypes:\n",
    "    count += 1\n",
    "    ax[count] = geno_assign3.loc[geno_assign3['Cell_type'].isin([cell])]['haplotype'].value_counts().plot(kind = 'bar', ax = ax[count])\n",
    "    ax[count].set_title(str(cell)) \n",
    "    ax[count].set_ylabel('Number of cells')\n",
    "    \n",
    "fig.suptitle('3 haplotype frequency by cell type', fontsize=16)\n",
    "fig.savefig('../Results/Haplotypes/Haplotype3_freq_cellype.png',dpi=300)     \n",
    "plt.close() #Plot just goes to file and isn't displayed    "
   ]
  },
  {
   "cell_type": "code",
   "execution_count": 208,
   "metadata": {},
   "outputs": [],
   "source": [
    "#Plot three haplotype data - by number of mutations\n",
    "fig, axes = plt.subplots(2,2, figsize = (16,8))\n",
    "fig.subplots_adjust(hspace = 1, wspace=.5)\n",
    "ax = axes.ravel()\n",
    "count = -1\n",
    "\n",
    "for cell in celltypes:\n",
    "    count += 1\n",
    "    ax[count] = geno_assign3.loc[geno_assign3['Cell_type'].isin([cell])]['Mut_score'].value_counts().plot(kind = 'bar', ax = ax[count])\n",
    "    ax[count].set_title(str(cell)) \n",
    "    ax[count].set_xlabel('Number of mutated alleles')\n",
    "    ax[count].set_ylabel('Number of cells')\n",
    "    \n",
    "fig.suptitle('3 haplotype mutant allele frequency by cell type', fontsize=16)\n",
    "fig.savefig('../Results/Haplotypes/Haplotype3_mut_allele_freq_celltype.png',dpi=300)     \n",
    "plt.close() #Plot just goes to file and isn't displayed  "
   ]
  },
  {
   "cell_type": "code",
   "execution_count": 154,
   "metadata": {},
   "outputs": [
    {
     "name": "stdout",
     "output_type": "stream",
     "text": [
      "The number of haplotypes present using 2 genotypes is:  6\n"
     ]
    }
   ],
   "source": [
    "#Assign two arbitrary genotypes - WT or MT\n",
    "geno_assign2 = RN_allele_plate\n",
    "conditions = [(geno_assign2['Mut_freq'] <= 0.25), (geno_assign2['Mut_freq']) > 0.25 ]\n",
    "values = ['w', 'm']\n",
    "geno_assign2['Genotype'] = np.select(conditions, values)\n",
    "values2 = [0,1] #include a numerical score for number of mutations\n",
    "geno_assign2['Order'] = np.select(conditions, values2)\n",
    "geno_assign2 = geno_assign2.unstack(2)\n",
    "\n",
    "geno_assign2 = geno_assign2.drop(columns = ['Mut_freq', 'Plate',  'Cell_type', 'Well', 'Plate_Well']) #drop unwanted columns\n",
    "\n",
    "#Rearrange df\n",
    "geno_assign2 = geno_assign2.stack()\n",
    "geno_assign2 = geno_assign2.loc[geno_assign2['Amplicon'].isin(['RN_RUNX1_g', 'RN_SRSF2', 'RN_TET2a'])]  #drop RUNX1 cDNA for simplicity\n",
    "geno_assign2 = geno_assign2.drop(columns = ['Amplicon'])\n",
    "geno_assign2 = geno_assign2.unstack()\n",
    "geno_assign2['Mut_score'] = geno_assign2.iloc[:, 3:6].sum(axis = 1)  #add the mutation scores together\n",
    "geno_assign2 = geno_assign2.drop(columns = ['Order'])\n",
    "geno_assign2.columns = ['RN_RUNX1_g', 'RN_SRSF2', 'RN_TET2a', 'Mut_score'] #renaming as something went funny in previous steps\n",
    "\n",
    "geno_assign2['haplotype'] = 'R' + geno_assign2['RN_RUNX1_g'] + '_S' + geno_assign2['RN_SRSF2'] + '_T' + geno_assign2['RN_TET2a']\n",
    "haps2 = geno_assign2['haplotype'].drop_duplicates().to_list()\n",
    "geno_assign2['Cell_type'] = geno_assign2.index.get_level_values(0)\n",
    "geno_assign2 = geno_assign2.replace({\"Cell_type\": plate_cell_dict})\n",
    "geno_assign2 = geno_assign2.drop(columns = ['RN_RUNX1_g', 'RN_SRSF2', 'RN_TET2a'])\n",
    "print('The number of haplotypes present using 2 genotypes is: ', len(haps2)) # haplotypes (3 arbitrary classes, WT (W), heterozygote (h), homozygote (H))"
   ]
  },
  {
   "cell_type": "code",
   "execution_count": 207,
   "metadata": {},
   "outputs": [],
   "source": [
    "#Plot two haplotype data\n",
    "fig, axes = plt.subplots(2,2, figsize = (16,8))\n",
    "fig.subplots_adjust(hspace = 1, wspace=.5)\n",
    "ax = axes.ravel()\n",
    "count = -1\n",
    "\n",
    "for cell in celltypes:\n",
    "    count += 1\n",
    "    ax[count] = geno_assign2.loc[geno_assign2['Cell_type'].isin([cell])]['haplotype'].value_counts().plot(kind = 'bar', ax = ax[count])\n",
    "    ax[count].set_title(str(cell)) \n",
    "    ax[count].set_ylabel('Number of cells')\n",
    "    \n",
    "fig.suptitle('2 haplotype frequency by cell type', fontsize=16)\n",
    "fig.savefig('../Results/Haplotypes/Haplotype2_freq_celltype.png',dpi=300)     \n",
    "plt.close() #Plot just goes to file and isn't displayed   "
   ]
  },
  {
   "cell_type": "code",
   "execution_count": 206,
   "metadata": {},
   "outputs": [],
   "source": [
    "#Plot two haplotype data - by number of mutations\n",
    "fig, axes = plt.subplots(2,2, figsize = (16,8))\n",
    "fig.subplots_adjust(hspace = 1, wspace=.5)\n",
    "ax = axes.ravel()\n",
    "count = -1\n",
    "\n",
    "for cell in celltypes:\n",
    "    count += 1\n",
    "    ax[count] = geno_assign2.loc[geno_assign2['Cell_type'].isin([cell])]['Mut_score'].value_counts().plot(kind = 'bar', ax = ax[count])\n",
    "    ax[count].set_title(str(cell)) \n",
    "    ax[count].set_xlabel('Number of mutated alleles')\n",
    "    ax[count].set_ylabel('Number of cells')\n",
    "    \n",
    "fig.suptitle('2 haplotype mutant allele frequency by cell type', fontsize=16)\n",
    "fig.savefig('../Results/Haplotypes/Haplotype2_mut_allele_freq_celltype.png',dpi=300)     \n",
    "plt.close() #Plot just goes to file and isn't displayed   "
   ]
  },
  {
   "cell_type": "code",
   "execution_count": 192,
   "metadata": {},
   "outputs": [],
   "source": [
    "#Make colour palettes to assign to haplotypes\n",
    "#possible haplotypes for 3 genotype system\n",
    "first = ['Rw', 'Rh', 'RH']\n",
    "second = ['Sw', 'Sh', 'SH']\n",
    "third = ['Tw', 'Th', 'TH']\n",
    "hap3 =[]\n",
    "\n",
    "for a in first:\n",
    "    for b in second:\n",
    "        for c in third:\n",
    "            hap3.append(a+b+c)\n",
    "    \n",
    "#possible haplotype for 2 genotype system\n",
    "firsta = ['Rw', 'Rm']\n",
    "seconda = ['Sw', 'Sm']\n",
    "thirda = ['Tw', 'Tm']\n",
    "hap2 =[]\n",
    "\n",
    "for a in firsta:\n",
    "    for b in seconda:\n",
    "        for c in thirda:\n",
    "            hap2.append(a+b+c)\n",
    "\n",
    "            \n",
    "#Make colour lists\n",
    "col8 = sns.color_palette(\"husl\", 8)\n",
    "col27 = sns.color_palette(\"husl\", 27)\n",
    "\n"
   ]
  },
  {
   "cell_type": "code",
   "execution_count": 193,
   "metadata": {},
   "outputs": [
    {
     "data": {
      "text/plain": [
       "{'RwSwTw': (0.9677975592919913, 0.44127456009157356, 0.5358103155058701),\n",
       " 'RwSwTm': (0.8087954113106306, 0.5634700050056693, 0.19502642696727285),\n",
       " 'RwSmTw': (0.5920891529639701, 0.6418467016378244, 0.1935069134991043),\n",
       " 'RwSmTm': (0.19783576093349015, 0.6955516966063037, 0.3995301037444499),\n",
       " 'RmSwTw': (0.21044753832183283, 0.6773105080456748, 0.6433941168468681),\n",
       " 'RmSwTm': (0.22335772267769388, 0.6565792317435265, 0.8171355503265633),\n",
       " 'RmSmTw': (0.6423044349219739, 0.5497680051256467, 0.9582651433656727),\n",
       " 'RmSmTm': (0.9603888539940703, 0.3814317878772117, 0.8683117650835491)}"
      ]
     },
     "execution_count": 193,
     "metadata": {},
     "output_type": "execute_result"
    }
   ],
   "source": [
    "test = dict(zip(hap2, col8))\n",
    "test"
   ]
  },
  {
   "cell_type": "code",
   "execution_count": null,
   "metadata": {},
   "outputs": [],
   "source": []
  }
 ],
 "metadata": {
  "kernelspec": {
   "display_name": "Python 3",
   "language": "python",
   "name": "python3"
  },
  "language_info": {
   "codemirror_mode": {
    "name": "ipython",
    "version": 3
   },
   "file_extension": ".py",
   "mimetype": "text/x-python",
   "name": "python",
   "nbconvert_exporter": "python",
   "pygments_lexer": "ipython3",
   "version": "3.8.3"
  }
 },
 "nbformat": 4,
 "nbformat_minor": 4
}
