{
 "cells": [
  {
   "cell_type": "code",
   "execution_count": 1,
   "metadata": {},
   "outputs": [],
   "source": [
    "#Anonymising patients in source allelecount file. Metadata file also fixed.\n",
    "\n",
    "import pandas as pd"
   ]
  },
  {
   "cell_type": "code",
   "execution_count": 2,
   "metadata": {},
   "outputs": [],
   "source": [
    "sourcefile = '../Data/Amp_data/allele_counts.tsv'\n",
    "df = pd.read_csv(sourcefile, header = None, index_col = None, sep='\\t') #Import with no header or index"
   ]
  },
  {
   "cell_type": "code",
   "execution_count": 3,
   "metadata": {},
   "outputs": [
    {
     "data": {
      "text/plain": [
       "{'EL_SRSF2': 'PD7153_SRSF2',\n",
       " 'EL_TET2a': 'PD7153_TET2a',\n",
       " 'EL_TET2b': 'PD7153_TET2b',\n",
       " 'EL_TGFB3_g': 'PD7153_TGFB3_g',\n",
       " 'RN_RUNX1_c': 'JP001_RUNX1_c',\n",
       " 'RN_RUNX1_g': 'JP001_RUNX1_g',\n",
       " 'RN_SRSF2': 'JP001_SRSF2',\n",
       " 'RN_TET2a': 'JP001_TET2a',\n",
       " 'RN_TET2b_c': 'JP001_TET2b_c',\n",
       " 'RN_TET2b_g': 'JP001_TET2b_g',\n",
       " 'EL_TGFB3_c': 'PD7153_TGFB3_c',\n",
       " 'GR_TET2a': 'PD7151_TET2a',\n",
       " 'GR_TET2b': 'PD7151_TET2b',\n",
       " 'EL_CUX1': 'PD7153_CUX1'}"
      ]
     },
     "execution_count": 3,
     "metadata": {},
     "output_type": "execute_result"
    }
   ],
   "source": [
    "df2 = df.T #flip data\n",
    "amps = df2[1].drop_duplicates().to_list() #Make list of amplicons\n",
    "anon_key = {'EL':'PD7153','GR':'PD7151','RN':'JP001'} #Pt ID key\n",
    "\n",
    "new_amps = []\n",
    "for a in amps[1:]:\n",
    "    a = str(a)\n",
    "    b = a.split('_', 1)\n",
    "    c = anon_key[b[0]]\n",
    "    d = c + '_' + b[1]\n",
    "    new_amps.append(d)\n",
    "    \n",
    "replace = dict(zip(amps[1:], new_amps))    #make a replacement dicitionary\n",
    "replace"
   ]
  },
  {
   "cell_type": "code",
   "execution_count": 5,
   "metadata": {},
   "outputs": [],
   "source": [
    "df3 = df2.copy() #Make a copy\n",
    "df3[1] = df3[1].map(replace).fillna(df3[1]) #Replace values with dictionary\n",
    "df4 = df3.T  #Flip back"
   ]
  },
  {
   "cell_type": "code",
   "execution_count": 9,
   "metadata": {},
   "outputs": [],
   "source": [
    "df4.to_csv('../Data/Amp_data/allele_counts_anon.tsv', header = False, index = False, sep = '\\t')"
   ]
  },
  {
   "cell_type": "code",
   "execution_count": null,
   "metadata": {},
   "outputs": [],
   "source": []
  }
 ],
 "metadata": {
  "kernelspec": {
   "display_name": "Python 3",
   "language": "python",
   "name": "python3"
  },
  "language_info": {
   "codemirror_mode": {
    "name": "ipython",
    "version": 3
   },
   "file_extension": ".py",
   "mimetype": "text/x-python",
   "name": "python",
   "nbconvert_exporter": "python",
   "pygments_lexer": "ipython3",
   "version": "3.8.3"
  }
 },
 "nbformat": 4,
 "nbformat_minor": 4
}
