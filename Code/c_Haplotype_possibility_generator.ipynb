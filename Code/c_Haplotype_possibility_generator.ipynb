{
 "cells": [
  {
   "cell_type": "code",
   "execution_count": 2,
   "metadata": {},
   "outputs": [],
   "source": [
    "#PD7153\n",
    "\n",
    "#4 gene haplotype order and palette\n",
    "firsta = ['B', 'b']\n",
    "seconda = ['S', 's']\n",
    "thirda = ['A', 'a']\n",
    "fourtha = ['T', 't']\n",
    "hap_4gene_poss =[]\n",
    "\n",
    "for a in firsta:\n",
    "    for b in seconda:\n",
    "        for c in thirda:\n",
    "            for d in fourtha:\n",
    "                hap_4gene_poss.append(a+b+c+d)\n",
    "\n",
    "order = [0, 4, 3, 10, 2, 9, 8, 14, 1, 7, 6, 12, 5, 13, 11, 15]\n",
    "hap_4gene_order = dict(zip(hap_4gene_poss, order))\n",
    "\n",
    "\n",
    "\n",
    "#3 gene haplotype order and palette\n",
    "firsta = ['B', 'b']\n",
    "seconda = ['S', 's']\n",
    "fourtha = ['A', 'a']\n",
    "hap_3gene_poss =[] \n",
    "\n",
    "for a in firsta:\n",
    "    for b in seconda:\n",
    "        for d in fourtha:\n",
    "            hap_3gene_poss.append(a+b+d)\n",
    "\n",
    "order = [0, 4, 3, 10, 2, 9, 8, 14, 1, 7, 6, 12, 5, 13, 11, 15]\n",
    "hap_3gene_order = dict(zip(hap_3gene_poss, order))\n",
    "\n"
   ]
  },
  {
   "cell_type": "code",
   "execution_count": 3,
   "metadata": {},
   "outputs": [
    {
     "data": {
      "text/plain": [
       "['BSAT',\n",
       " 'BSAt',\n",
       " 'BSaT',\n",
       " 'BSat',\n",
       " 'BsAT',\n",
       " 'BsAt',\n",
       " 'BsaT',\n",
       " 'Bsat',\n",
       " 'bSAT',\n",
       " 'bSAt',\n",
       " 'bSaT',\n",
       " 'bSat',\n",
       " 'bsAT',\n",
       " 'bsAt',\n",
       " 'bsaT',\n",
       " 'bsat']"
      ]
     },
     "execution_count": 3,
     "metadata": {},
     "output_type": "execute_result"
    }
   ],
   "source": [
    "hap_4gene_poss"
   ]
  },
  {
   "cell_type": "code",
   "execution_count": 4,
   "metadata": {},
   "outputs": [
    {
     "data": {
      "text/plain": [
       "['BSA', 'BSa', 'BsA', 'Bsa', 'bSA', 'bSa', 'bsA', 'bsa']"
      ]
     },
     "execution_count": 4,
     "metadata": {},
     "output_type": "execute_result"
    }
   ],
   "source": [
    "hap_3gene_poss"
   ]
  },
  {
   "cell_type": "code",
   "execution_count": 5,
   "metadata": {},
   "outputs": [
    {
     "data": {
      "text/plain": [
       "{'BSA': 0,\n",
       " 'BSa': 4,\n",
       " 'BsA': 3,\n",
       " 'Bsa': 10,\n",
       " 'bSA': 2,\n",
       " 'bSa': 9,\n",
       " 'bsA': 8,\n",
       " 'bsa': 14}"
      ]
     },
     "execution_count": 5,
     "metadata": {},
     "output_type": "execute_result"
    }
   ],
   "source": [
    "hap_3gene_order"
   ]
  },
  {
   "cell_type": "code",
   "execution_count": null,
   "metadata": {},
   "outputs": [],
   "source": []
  }
 ],
 "metadata": {
  "kernelspec": {
   "display_name": "Python 3",
   "language": "python",
   "name": "python3"
  },
  "language_info": {
   "codemirror_mode": {
    "name": "ipython",
    "version": 3
   },
   "file_extension": ".py",
   "mimetype": "text/x-python",
   "name": "python",
   "nbconvert_exporter": "python",
   "pygments_lexer": "ipython3",
   "version": "3.8.3"
  }
 },
 "nbformat": 4,
 "nbformat_minor": 4
}
