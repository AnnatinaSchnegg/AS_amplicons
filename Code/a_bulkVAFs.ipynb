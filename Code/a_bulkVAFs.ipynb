{
 "cells": [
  {
   "cell_type": "code",
   "execution_count": 14,
   "metadata": {},
   "outputs": [],
   "source": [
    "import numpy as np\n",
    "import pandas as pd\n",
    "import matplotlib as mpl\n",
    "import matplotlib.pyplot as plt\n",
    "import seaborn as sns\n",
    "\n",
    "from bs4 import BeautifulSoup\n",
    "import json"
   ]
  },
  {
   "cell_type": "code",
   "execution_count": 15,
   "metadata": {},
   "outputs": [],
   "source": [
    "with open( '../Data/VAF_Data/p377_variant_summary.html', 'r') as mf:\n",
    "    file = mf.read()"
   ]
  },
  {
   "cell_type": "code",
   "execution_count": 16,
   "metadata": {},
   "outputs": [],
   "source": [
    "soup = BeautifulSoup(file, 'html.parser')\n",
    "\n",
    "mysoup = soup.body.div.find_all(\"script\")\n",
    "\n",
    "mysoup = soup.body.div.find_all(\"script\")[1].contents[0].strip()"
   ]
  },
  {
   "cell_type": "code",
   "execution_count": 17,
   "metadata": {},
   "outputs": [],
   "source": [
    "table_dict = json.loads(mysoup)\n",
    "\n",
    "columns = [stuff[\"label\"][0] for stuff in table_dict[\"columns\"]]\n",
    "\n",
    "table_dict[\"data\"]\n",
    "\n",
    "data = []\n",
    "for stuff in table_dict[\"data\"]:\n",
    "    rows = []\n",
    "    for key in stuff:\n",
    "        rows.append(stuff[key])\n",
    "    data.append(rows)\n",
    "    \n",
    "variant_annotations = pd.DataFrame(data, columns = columns)"
   ]
  },
  {
   "cell_type": "code",
   "execution_count": 18,
   "metadata": {},
   "outputs": [],
   "source": [
    "#Convert patient IDs\n",
    "variant_annotations['pat'] = variant_annotations['PATIENT']\n",
    "\n",
    "init_dict = {\n",
    "    'IID_H198302': 'PD7153',\n",
    "    'IID_H198303': 'PD7151',\n",
    "    'IID_H198304': 'JP001'\n",
    "}\n",
    "\n",
    "variant_annotations['patient_init'] = variant_annotations['pat'].replace(init_dict)"
   ]
  },
  {
   "cell_type": "code",
   "execution_count": 19,
   "metadata": {},
   "outputs": [],
   "source": [
    "#Add in cell type\n",
    "variant_annotations['cel'] = variant_annotations['TARGET_NAME']\n",
    "ct_dict = {\n",
    "    'T01': 'BM',\n",
    "    'T02': 'Mono',\n",
    "    'T03': 'nBC',\n",
    "    'T04': 'Neut'\n",
    "}\n",
    "\n",
    "patients = variant_annotations['TARGET_NAME'].to_list()\n",
    "cells = []\n",
    "for pat in patients: \n",
    "    for a in ct_dict:\n",
    "        x = (pat.split('_')[2])\n",
    "        if a == x:\n",
    "            cells.append(ct_dict[a])\n",
    "            \n",
    "cell_dict = dict(zip(patients, cells))   \n",
    "\n",
    "variant_annotations['celltype'] = variant_annotations['cel'].replace(cell_dict)\n",
    "\n",
    "variant_annotations = variant_annotations.drop(columns = ['cel', 'pat'])"
   ]
  },
  {
   "cell_type": "code",
   "execution_count": 20,
   "metadata": {},
   "outputs": [],
   "source": [
    "#Add in PCR amplicon name\n",
    "variant_annotations['Mean_VAF'] = pd.to_numeric(variant_annotations['TARGET_VAF_MEAN'], downcast = 'float')"
   ]
  },
  {
   "cell_type": "code",
   "execution_count": 21,
   "metadata": {},
   "outputs": [
    {
     "name": "stdout",
     "output_type": "stream",
     "text": [
      "11 {'p.P95H': 'PD7153_SRSF2', 'p.L1065fs*1': 'PD7153_TET2a', 'p.Q685*': 'PD7153_TET2b', 'p.T360M': 'PD7153_TGFB3_g', 'p.K1090fs*15': 'PD7151_TET2a', 'p.A1224fs*2': 'PD7151_TET2b', 'p.A187T': 'JP001_RUNX1_g', 'p.P95R': 'JP001_SRSF2', 'p.G1218fs*8': 'JP001_TET2a', 'p.Y1337*': 'JP001_TET2b_g', 'p.Q1276*': 'PD7153_CUX1'}\n"
     ]
    }
   ],
   "source": [
    "#Convert protein changes to amplicon names\n",
    "meta = pd.read_excel('../Data/Amp_data/Amplicon_metadata_fixed_anon.xlsx')\n",
    "mut = meta['MUT_NAME'].to_list()\n",
    "prot = meta['PROTEIN_CHANGE'].to_list()\n",
    "amp_assign = dict(zip(prot, mut))\n",
    "old = 'p.Q1276* aka p.Q1265*'\n",
    "new = 'p.Q1276*'\n",
    "amp_assign[new] = amp_assign.pop(old)\n",
    "print(len(amp_assign), amp_assign)\n",
    "\n",
    "variant_annotations['Amplicon'] = variant_annotations['PROTEIN_CHANGE'].replace(amp_assign)"
   ]
  },
  {
   "cell_type": "code",
   "execution_count": 22,
   "metadata": {},
   "outputs": [
    {
     "name": "stderr",
     "output_type": "stream",
     "text": [
      "<ipython-input-22-3f06ba998420>:9: SettingWithCopyWarning: \n",
      "A value is trying to be set on a copy of a slice from a DataFrame.\n",
      "Try using .loc[row_indexer,col_indexer] = value instead\n",
      "\n",
      "See the caveats in the documentation: https://pandas.pydata.org/pandas-docs/stable/user_guide/indexing.html#returning-a-view-versus-a-copy\n",
      "  variant_annotations_amps['pt_test'] = pt_test\n"
     ]
    }
   ],
   "source": [
    "# Make a smaller df that just contains PCR amplicons in it\n",
    "variant_annotations_amps = variant_annotations.loc[variant_annotations['Amplicon'].isin(mut)]\n",
    "\n",
    "#Test for where amplicon assignment doesn't fit patient (ie/ PD7151 SRSF2 which gets incorrectly labelled as a different patient because it wasn't PCR amplified)\n",
    "pt_test = []\n",
    "for index, row in variant_annotations_amps.iterrows():\n",
    "    pt_test.append(row['Amplicon'].split('_')[0])\n",
    "\n",
    "variant_annotations_amps['pt_test'] = pt_test\n",
    "\n",
    "variant_annotations_amps = variant_annotations_amps.loc[variant_annotations_amps['pt_test'] == variant_annotations_amps['patient_init']]   "
   ]
  },
  {
   "cell_type": "code",
   "execution_count": 23,
   "metadata": {},
   "outputs": [],
   "source": [
    "#Create empty values for PD7151 missing amplicon\n",
    "cs = list(variant_annotations_amps.columns)\n",
    "blank1 = ['TARGET_NAME',\n",
    " 'PATIENT',\n",
    " 'CHR',\n",
    " 'START',\n",
    " 'END',\n",
    " 'REF',\n",
    " 'ALT',\n",
    " 'GENE',\n",
    " 'PROTEIN_CHANGE',\n",
    " 'cDNA_CHANGE',\n",
    " 'TARGET_VAF_MEAN',\n",
    " 'Autotate_annot1',\n",
    " 'Autotate_annot2',\n",
    " 'VARIANT',\n",
    " 'sampleID_short',\n",
    " 'PD7151',\n",
    " 'Neut',\n",
    " '-0.1',\n",
    " 'PD7151_TET2a',\n",
    " 'PD7151']\n",
    "blank2 = ['TARGET_NAME',\n",
    " 'PATIENT',\n",
    " 'CHR',\n",
    " 'START',\n",
    " 'END',\n",
    " 'REF',\n",
    " 'ALT',\n",
    " 'GENE',\n",
    " 'PROTEIN_CHANGE',\n",
    " 'cDNA_CHANGE',\n",
    " 'TARGET_VAF_MEAN',\n",
    " 'Autotate_annot1',\n",
    " 'Autotate_annot2',\n",
    " 'VARIANT',\n",
    " 'sampleID_short',\n",
    " 'PD7151',\n",
    " 'Neut',\n",
    " '-0.21',\n",
    " 'PD7151_TET2b',\n",
    " 'PD7151']\n",
    "blank = pd.DataFrame(np.array([blank1, blank2]),columns=cs)"
   ]
  },
  {
   "cell_type": "code",
   "execution_count": 24,
   "metadata": {},
   "outputs": [],
   "source": [
    "#Create a new df with the blank values and rearrange for plotting\n",
    "var_ann_blank = pd.concat([variant_annotations_amps, blank])\n",
    "var_ann_blank = var_ann_blank[['celltype', 'Mean_VAF', 'Amplicon', 'patient_init']]\n",
    "var_ann_blank.sort_values(by=['Amplicon'], inplace = True)\n",
    "var_ann_blank.sort_values(by=['celltype'], inplace = True)"
   ]
  },
  {
   "cell_type": "code",
   "execution_count": 25,
   "metadata": {},
   "outputs": [],
   "source": [
    "#Rearrange again\n",
    "patients = ['JP001', 'PD7153', 'PD7151']\n",
    "\n",
    "all_amps = ['JP001_SRSF2',\n",
    "            'PD7153_TET2b',\n",
    "            'JP001_TET2a',\n",
    "            'PD7153_TET2a', \n",
    "            'PD7151_TET2b',\n",
    "            'JP001_TET2b_g', \n",
    "            'PD7153_SRSF2', \n",
    "            'JP001_RUNX1_g',\n",
    "            'PD7153_CUX1',\n",
    "            'PD7151_TET2a'\n",
    "           ]\n",
    "short_label = ['SRSF2',\n",
    "        'TET2[b]',\n",
    "        'TET2[a]',\n",
    "        'TET2[a]', \n",
    "        'TET2[b]',\n",
    "        'TET2[b]', \n",
    "        'SRSF2', \n",
    "        'RUNX1',\n",
    "        'CUX1',\n",
    "        'TET2[a]'\n",
    "       ]\n",
    "relabel = dict(zip(all_amps, short_label))\n",
    "colors = sns.color_palette('husl', n_colors = len(all_amps))\n",
    "allVAFcols = dict(zip(all_amps, colors))\n",
    "\n",
    "cell_order = ['BM', 'Mono', 'Neut', 'nBC']\n",
    "cell_order_map = {x:i for i, x in enumerate(cell_order)}\n",
    "\n",
    "var_ann_blank['x_value'] = var_ann_blank['celltype'].map(cell_order_map)\n",
    "\n",
    "var_ann_blank.loc[var_ann_blank['Amplicon'] == 'JP001_SRSF2', 'x_value'] -= 0.12\n",
    "var_ann_blank.loc[var_ann_blank['Amplicon'] == 'JP001_TET2a', 'x_value'] -= 0.04\n",
    "var_ann_blank.loc[var_ann_blank['Amplicon'] == 'JP001_TET2b_g', 'x_value'] += 0.04\n",
    "var_ann_blank.loc[var_ann_blank['Amplicon'] == 'JP001_RUNX1_g', 'x_value'] += 0.12\n",
    "\n",
    "var_ann_blank.loc[var_ann_blank['Amplicon'] == 'PD7153_TET2b', 'x_value'] -= 0.08\n",
    "#var_ann_blank.loc[var_ann_blank['Amplicon'] == 'PD7153_TET2a', 'x_value'] -= 0.0\n",
    "var_ann_blank.loc[var_ann_blank['Amplicon'] == 'PD7153_SRSF2', 'x_value'] += 0.08\n",
    "\n",
    "var_ann_blank.loc[var_ann_blank['Amplicon'] == 'PD7151_TET2b', 'x_value'] -= 0.04\n",
    "var_ann_blank.loc[var_ann_blank['Amplicon'] == 'PD7151_TET2a', 'x_value'] += 0.04"
   ]
  },
  {
   "cell_type": "code",
   "execution_count": 27,
   "metadata": {},
   "outputs": [
    {
     "data": {
      "image/png": "[encoded data removed]",
      "text/plain": [
       "<Figure size 504x288 with 6 Axes>"
      ]
     },
     "metadata": {},
     "output_type": "display_data"
    }
   ],
   "source": [
    "#Plot the VAFS\n",
    "fig, (ax1,ax) = plt.subplots(2, 3, figsize = (7,4), gridspec_kw = dict(height_ratios = [1,4]), sharex = True)\n",
    "\n",
    "#Adding dummy plot at top to match spacing exactly with scVAF plot\n",
    "for count, patient in enumerate(patients):\n",
    "    ax1[count].set_yscale('log')\n",
    "    ax1[count].set_ylim(1, 1000)\n",
    "    ax1[count].set_yticks([1, 10, 100, 1000])\n",
    "    ax1labels = ['', 10, 100, 1000]\n",
    "    ax1[count].set_yticklabels(ax1labels, color = 'white') \n",
    "    #ax1[count].set_title(f'{patient}') \n",
    "    ax1[count].spines['top'].set_visible(False)\n",
    "    ax1[count].spines['right'].set_visible(False)\n",
    "    ax1[count].spines['bottom'].set_visible(False)\n",
    "    ax1[count].spines['left'].set_visible(False)\n",
    "    ax1[count].tick_params(axis='x', colors='white')\n",
    "    ax1[count].tick_params(axis='y', colors='white')    \n",
    "    if count != 0:\n",
    "        ax1[count].set_yticklabels([])\n",
    "    else:\n",
    "        ax1[count].set_ylabel('Cell #', color = 'white')\n",
    "\n",
    "for count, patient in enumerate(patients):\n",
    "    plot_data = var_ann_blank.loc[var_ann_blank['patient_init'].isin([patient])]\n",
    "    \n",
    "                \n",
    "    sns.scatterplot(x = 'x_value', y = 'Mean_VAF', data = plot_data,  s = 50, hue = 'Amplicon', palette = allVAFcols, alpha = 0.5, edgecolor = 'black', ax = ax[count])\n",
    "    handles, labels = ax[count].get_legend_handles_labels()\n",
    "    lbl = []\n",
    "    for lb in labels[1:]:\n",
    "        lbl.append(relabel[lb])    \n",
    "    \n",
    "    lgd = ax[count].legend(loc = 'upper left', bbox_to_anchor = [-0.1,-0.3], columnspacing = 0.8, handletextpad=0.1, ncol = 2, markerscale = 1.2, handles=handles[1:], labels=lbl)\n",
    "    #ax[count].set_title(f'{patient}') \n",
    "    ax[count].set_ylim(0,0.7)\n",
    "    ax[count].axhline(0.1, ls = '--', c = 'silver', lw = 1, zorder = 0)\n",
    "    ax[count].axhline(0.2, ls = '--', c = 'silver', lw = 1, zorder = 0)\n",
    "    ax[count].axhline(0.3, ls = '--', c = 'silver', lw = 1, zorder = 0)\n",
    "    ax[count].axhline(0.4, ls = '--', c = 'silver', lw = 1, zorder = 0)\n",
    "    ax[count].axhline(0.5, ls = '--', c = 'silver', lw = 1, zorder = 0)\n",
    "    ax[count].axhline(0.6, ls = '--', c = 'silver', lw = 1, zorder = 0)\n",
    "    ax[count].set_ylabel('')\n",
    "    ax[count].set_xlabel('')\n",
    "    ax[count].tick_params(axis='x', labelrotation = 90)\n",
    "    ax[count].margins(x=0.1)\n",
    "    ax[count].set_xticks(np.arange(len(cell_order)))\n",
    "    ax[count].set_xticklabels(cell_order)\n",
    "    ax[count].set_title(f'{patient}')\n",
    "\n",
    "    ax[count].spines['top'].set_visible(False)\n",
    "    ax[count].spines['right'].set_visible(False)\n",
    "    \n",
    "    if count != 0:\n",
    "        ax[count].set_yticklabels([])\n",
    "    else:\n",
    "        ax[count].set_ylabel('bulkVAF')\n",
    "    \n",
    "    for lh in lgd.legendHandles: \n",
    "        lh.set_alpha(0.5)\n",
    "        lh.set_edgecolor('black')\n",
    "\n",
    "plt.rcParams['svg.fonttype'] = 'none'  \n",
    "fig.tight_layout(h_pad = 0, w_pad = 2)     \n",
    "fig.savefig('../Results/Bulk_VAFs.svg',bbox_inches='tight', dpi = 600)"
   ]
  },
  {
   "cell_type": "code",
   "execution_count": null,
   "metadata": {},
   "outputs": [],
   "source": []
  },
  {
   "cell_type": "code",
   "execution_count": null,
   "metadata": {},
   "outputs": [],
   "source": []
  },
  {
   "cell_type": "code",
   "execution_count": null,
   "metadata": {},
   "outputs": [],
   "source": []
  }
 ],
 "metadata": {
  "kernelspec": {
   "display_name": "Python 3",
   "language": "python",
   "name": "python3"
  },
  "language_info": {
   "codemirror_mode": {
    "name": "ipython",
    "version": 3
   },
   "file_extension": ".py",
   "mimetype": "text/x-python",
   "name": "python",
   "nbconvert_exporter": "python",
   "pygments_lexer": "ipython3",
   "version": "3.8.3"
  }
 },
 "nbformat": 4,
 "nbformat_minor": 4
}
