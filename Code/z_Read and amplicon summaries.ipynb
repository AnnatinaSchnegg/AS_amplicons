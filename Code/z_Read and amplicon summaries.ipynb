{
 "cells": [
  {
   "cell_type": "code",
   "execution_count": 1,
   "metadata": {},
   "outputs": [],
   "source": [
    "import numpy as np\n",
    "import pandas as pd\n",
    "import matplotlib as mpl\n",
    "import matplotlib.pyplot as plt\n",
    "import seaborn as sns"
   ]
  },
  {
   "cell_type": "code",
   "execution_count": 2,
   "metadata": {},
   "outputs": [],
   "source": [
    "#Aim 1 - look at allele frequencies in 756 cells from RN that have at least 100 reads for each of 4 amplicons - not in this notebook\n",
    "#Aim 2 - practise dataframe manipulation so I'm not constantly making sub-frames and tying myself in knots - mostly this"
   ]
  },
  {
   "cell_type": "code",
   "execution_count": 4,
   "metadata": {},
   "outputs": [],
   "source": [
    "#Import all the data again\n",
    "#Import the data and flip into a multi index \n",
    "df = pd.read_csv('../Data/Amp_data/allele_counts.tsv', header = [0,1,2], index_col = 0, sep='\\t')\n",
    "df = df.stack([0,1,2])\n",
    "df = df.reorder_levels([1,0,2,3])\n",
    "df = df.to_frame()  #puts everything back in a dataframe\n",
    "df.columns = ['Reads']\n",
    "df['Plate'] = df.index.get_level_values(0)  #These lines send indexes to columns\n",
    "df['Well'] = df.index.get_level_values(1)\n",
    "df['Amplicon'] = df.index.get_level_values(2)\n",
    "df['Genotype'] = df.index.get_level_values(3)\n",
    "df[['Patient', 'one', 'two']] = df['Amplicon'].str.split('_', expand = True)\n",
    "df = df.drop(columns = ['one', 'two'])\n",
    "#print(df.shape[0]) #shape of the df in the height dimension\n",
    "#df"
   ]
  },
  {
   "cell_type": "code",
   "execution_count": null,
   "metadata": {},
   "outputs": [],
   "source": [
    "#Need to be able to assign patient and cell type from the plate ID\n",
    "\n",
    "#Import information about plate cell type and patient\n",
    "key = pd.read_excel('../Data/Amplicon_metadata_fixed.xlsx', sheet_name = 'PlateID')\n",
    "key = key.drop(['Cell Origin', 'Plate Nr', 'Plate Name','Nr of cells', 'fcs-fle' ], axis=1)\n",
    "key.rename(columns = {'Comments2':'Plate'}, inplace = True)\n",
    "key.rename(columns = {'Cell-group':'Celltype'}, inplace = True)\n",
    "\n",
    "#Make a dictionary to associate plates with patients and plate with cell type\n",
    "plate_pt_dict = dict(zip(key.Plate, key.Patient))\n",
    "plate_cell_dict = dict(zip(key.Plate, key.Celltype))\n",
    "\n"
   ]
  },
  {
   "cell_type": "code",
   "execution_count": null,
   "metadata": {},
   "outputs": [],
   "source": [
    "#Set up some lists for iteration\n",
    "patients = ['RN', 'EL', 'GR']\n",
    "plates = df['Plate'].drop_duplicates().to_list()\n",
    "amplicons = df['Amplicon'].drop_duplicates().to_list()\n",
    "genos = df['Genotype'].drop_duplicates().to_list()\n",
    "wells = df['Well'].drop_duplicates().to_list()"
   ]
  },
  {
   "cell_type": "code",
   "execution_count": null,
   "metadata": {},
   "outputs": [],
   "source": [
    "#Reads per well per plate\n",
    "read_plate = df.groupby(['Plate', 'Well']).sum()\n",
    "read_plate = read_plate.reset_index()\n",
    "read_plate['Number'] = read_plate['Well'].str.replace('([A-Z]+)', '')\n",
    "read_plate['Letter'] = read_plate['Well'].str.extract('([A-Z]+)')\n",
    "read_plate = read_plate.drop(columns = ['Well'])\n",
    "#read_plate"
   ]
  },
  {
   "cell_type": "code",
   "execution_count": null,
   "metadata": {},
   "outputs": [],
   "source": [
    "#plot reads per plate \n",
    "fig, axs = plt.subplots(9,3, figsize = (16, 18))\n",
    "fig.subplots_adjust(hspace = 1, wspace=.2)\n",
    "axs = axs.ravel()\n",
    "\n",
    "count = -1\n",
    "\n",
    "for plate in plates:\n",
    "    \n",
    "    j = plate_pt_dict.get(plate) #use the dict to make a variable that contains the patient name for the current plate\n",
    "    m = plate_cell_dict.get(plate) #use the dict to make a variable that contains the cell ype for the current plate    \n",
    "        \n",
    "    count = count + 1\n",
    "    a = read_plate.loc[read_plate['Plate'].isin([plate])]\n",
    "    a = a.pivot(index = 'Letter', columns = 'Number', values = 'Reads')\n",
    "    #Re-order data here to get proper plate layout\n",
    "    a = np.minimum(a, 100)    \n",
    "                       \n",
    "    axs[count] = sns.heatmap(a, cmap = 'YlGnBu_r', ax = axs[count])#Plot the data on the next ax\n",
    "    axs[count].set_title(str(plate+' '+j+' '+m)) #set title to contain plate and cell type\n",
    "\n",
    "fig.suptitle('Total reads per well/per plate (max100)', fontsize=16)\n",
    "#fig.savefig('../Results/Well_counts/well_counts_total_max100.png',dpi=600)  \n",
    "\n",
    "plt.close() #Plot just goes to file and isn't displayed"
   ]
  },
  {
   "cell_type": "code",
   "execution_count": null,
   "metadata": {},
   "outputs": [],
   "source": [
    "#Reads per amplicon per well per plate\n",
    "#Makes sense to split into patients at this point\n",
    "amps_plate = df.groupby(['Plate', 'Well', 'Amplicon', 'Patient']).sum() #group by plate, well, amplicon, patient\n",
    "amps_plate['Patient'] = amps_plate.index.get_level_values(3) #Put patient ID back into a column\n",
    "\n",
    "RN_amps_plate = amps_plate.loc[amps_plate['Patient'].isin(['RN'])]\n",
    "RN_amps_plate = RN_amps_plate.drop(columns = 'Patient') #Remove patient column\n",
    "RN_amps_plate = RN_amps_plate.unstack(level = 2) #unstack to split amplicons into columns\n",
    "\n",
    "EL_amps_plate = amps_plate.loc[amps_plate['Patient'].isin(['EL'])]\n",
    "EL_amps_plate = EL_amps_plate.drop(columns = 'Patient')  #Remove patient column\n",
    "EL_amps_plate = EL_amps_plate.unstack(level = 2) #unstack to split amplicons into columns\n",
    "\n",
    "GR_amps_plate = amps_plate.loc[amps_plate['Patient'].isin(['GR'])]\n",
    "GR_amps_plate = GR_amps_plate.drop(columns = 'Patient')  #Remove patient column\n",
    "GR_amps_plate = GR_amps_plate.unstack(level = 2) #unstack to split amplicons into columns\n",
    "\n",
    "#Check there's data for 9 x 384 = 3456 wells\n",
    "print(RN_amps_plate.shape[0])\n",
    "print(EL_amps_plate.shape[0])\n",
    "print(GR_amps_plate.shape[0])"
   ]
  },
  {
   "cell_type": "code",
   "execution_count": null,
   "metadata": {},
   "outputs": [],
   "source": [
    "#Just look at RN now\n",
    "\n",
    "#Looking at all amplicons\n",
    "\n",
    "cells100 = RN_amps_plate.loc[(RN_amps_plate >= 100).all(axis=1)]\n",
    "cells50 = RN_amps_plate.loc[(RN_amps_plate >= 50).all(axis=1)]\n",
    "cells10 = RN_amps_plate.loc[(RN_amps_plate >= 10).all(axis=1)]\n",
    "\n",
    "one = ('Looking at all 6 amplicons;'\n",
    "    'Cells with at least 10 reads per amplicon = ' + str(cells10.shape[0]),\n",
    "    'Cells with at least 50 reads per amplicon = ' + str(cells50.shape[0]),\n",
    "    'Cells with at least 100 reads per amplicon = ' + str(cells100.shape[0]))\n",
    "\n",
    "\n",
    "#Now excluding TET2b amplicons\n",
    "RN_some_amps_plate = RN_amps_plate.iloc[: , 0:4]\n",
    "\n",
    "\n",
    "somecells100 = RN_some_amps_plate.loc[(RN_some_amps_plate >= 100).all(axis=1)]\n",
    "somecells50 = RN_some_amps_plate.loc[(RN_some_amps_plate >= 50).all(axis=1)]\n",
    "somecells10 = RN_some_amps_plate.loc[(RN_some_amps_plate >= 10).all(axis=1)]\n",
    "\n",
    "two = ('Looking at 4 amplicons (not TET2b);'\n",
    "    'Cells with at least 10 reads per amplicon = ' + str(somecells10.shape[0]),\n",
    "    'Cells with at least 50 reads per amplicon  = ' + str(somecells50.shape[0]),\n",
    "    'Cells with at least 100 reads per amplicon = ' + str(somecells100.shape[0]))\n",
    "\n",
    "\n",
    "print(one, two)"
   ]
  },
  {
   "cell_type": "code",
   "execution_count": null,
   "metadata": {},
   "outputs": [],
   "source": [
    "#Plotting the read distributions\n",
    "#All amplicons\n",
    "x = np.logspace(0, 3, 50)   #sets the axis space - returns from log 0 to log 3 in 50 equal increments\n",
    "y = [RN_amps_plate.loc[(RN_amps_plate >= xi).all(axis=1)].shape[0] for xi in x] #This filters the df to contain the number \n",
    "#of cells (rows) that meet each iteration, and shape[0] essentially returns the number of rows (ie/ the dimension on axis = 0)\n",
    "fig, ax = plt.subplots()\n",
    "ax.plot(x, y, color = 'red')\n",
    "ax.set_yscale('log')\n",
    "ax.set_xscale('log')\n",
    "ax.axvline(10, ls = '--')\n",
    "ax.axvline(100, ls = '--')\n",
    "ax.axhline(2200, ls = '--')\n",
    "ax.axhline(780, ls = '--')\n",
    "ax.set_xlabel('Number of reads')\n",
    "ax.set_ylabel('Number of cells')\n",
    "\n",
    "fig.suptitle('RN - cells with >x reads for all amplicons', fontsize=16)        \n",
    "fig.savefig('../Results/Amp_counts/RN_amp_counts_per_cell_all_amplicons.png',dpi=600) \n",
    "#plt.close() #Plot just goes to file and isn't displayed"
   ]
  },
  {
   "cell_type": "code",
   "execution_count": null,
   "metadata": {},
   "outputs": [],
   "source": [
    "#Plotting the read distributions\n",
    "#Amplicons except TET2b\n",
    "x = np.logspace(0, 3, 50)   #sets the axis space - returns from log 0 to log 3 in 50 equal increments\n",
    "y = [RN_some_amps_plate.loc[(RN_some_amps_plate >= xi).all(axis=1)].shape[0] for xi in x] #This filters the df to contain the number \n",
    "#of cells (rows) that meet each iteration, and shape[0] essentially returns the number of rows (ie/ the dimension on axis = 0)\n",
    "fig, ax = plt.subplots()\n",
    "ax.plot(x, y, color = 'red')\n",
    "ax.set_yscale('log')\n",
    "ax.set_xscale('log')\n",
    "ax.axvline(10, ls = '--')\n",
    "ax.axvline(100, ls = '--')\n",
    "ax.axhline(2200, ls = '--')\n",
    "ax.axhline(780, ls = '--')\n",
    "ax.set_xlabel('Number of reads')\n",
    "ax.set_ylabel('Number of cells')\n",
    "\n",
    "fig.suptitle('RN - cells with >x reads for amplicons except TET2b', fontsize=16)        \n",
    "fig.savefig('../Results/Amp_counts/RN_amp_counts_per_cell_amplicons_except TET2b.png',dpi=600) \n",
    "#plt.close() #Plot just goes to file and isn't displayed"
   ]
  },
  {
   "cell_type": "code",
   "execution_count": null,
   "metadata": {},
   "outputs": [],
   "source": [
    "#Iterable lists of amplicons from column headers\n",
    "#Bad solution, ended up with labels in the wrong order\n",
    "EL_col = [] #Make empty lists\n",
    "GR_col = []\n",
    "RN_col = []\n",
    "\n",
    "col_headers = list(EL_amps_plate.columns.levels[1]) #Grabs the column headers from multi index\n",
    "for x in col_headers:\n",
    "    if 'EL' in x:\n",
    "        EL_col.append(x)\n",
    "\n",
    "col_headers = list(GR_amps_plate.columns.levels[1]) #Grabs the column headers from multi index\n",
    "for x in col_headers:\n",
    "    if 'GR' in x:\n",
    "        GR_col.append(x)  \n",
    "        \n",
    "col_headers = list(RN_amps_plate.columns.levels[1]) #Grabs the column headers from multi index\n",
    "for x in col_headers:\n",
    "    if 'RN' in x:\n",
    "        RN_col.append(x) "
   ]
  },
  {
   "cell_type": "code",
   "execution_count": null,
   "metadata": {},
   "outputs": [],
   "source": [
    "#Plot each individual amplicon for RN\n",
    "fig, ax = plt.subplots(2,3, figsize = (16, 8))\n",
    "fig.subplots_adjust(hspace = 1, wspace=.5)\n",
    "ax = ax.ravel()\n",
    "count = -1\n",
    "\n",
    "for z in range(6):\n",
    "    count = count + 1\n",
    "    data = RN_amps_plate.iloc[: , z].to_frame()\n",
    "    x = np.logspace(0, 3, 50)   #sets the axis space - returns from log 0 to log 3 in 50 equal increments\n",
    "    y = [data.loc[(data >= xi).all(axis=1)].shape[0] for xi in x] #This filters the df to contain the number \n",
    "#of cells (rows) that meet each iteration, and shape[0] essentially returns the number of rows (ie/ the dimension on axis = 0)\n",
    "    \n",
    "    a = data.columns.levels[1]\n",
    "    \n",
    "    ax[count].plot(x, y, color = 'red')\n",
    "    ax[count].set_yscale('log')\n",
    "    ax[count].set_xscale('log')\n",
    "    ax[count].axvline(10, ls = '--')\n",
    "    ax[count].axvline(100, ls = '--')\n",
    "    #ax[count].axhline(2200, ls = '--')\n",
    "    #ax[count].axhline(780, ls = '--')\n",
    "    ax[count].set_xlabel('Number of reads')\n",
    "    ax[count].set_ylabel('Number of cells')\n",
    "    ax[count].set_title('Amplicon = ' + a)\n",
    "    \n",
    "fig.suptitle('RN - cells with >x per amplicon', fontsize=16)        \n",
    "#fig.savefig('../Results/Amp_counts/RN_amp_counts_per_cell_per_amplicons.png',dpi=600) \n",
    "#plt.close() #Plot just goes to file and isn't displayed"
   ]
  },
  {
   "cell_type": "code",
   "execution_count": null,
   "metadata": {},
   "outputs": [],
   "source": [
    "#Plot each individual amplicon for RN neutrophils (no cells met our criteria)\n",
    "RN_amps_NE = RN_amps_plate\n",
    "RN_amps_NE['Plate'] = RN_amps_NE.index.get_level_values(0)\n",
    "RN_amps_NE = RN_amps_NE[RN_amps_NE['Plate'].isin(['AS-195', 'AS-189'])]\n",
    "\n",
    "fig, ax = plt.subplots(2,3, figsize = (16, 8))\n",
    "fig.subplots_adjust(hspace = 1, wspace=.5)\n",
    "ax = ax.ravel()\n",
    "count = -1\n",
    "\n",
    "for z in range(6):\n",
    "    count = count + 1\n",
    "    data = RN_amps_NE.iloc[: , z].to_frame()\n",
    "    x = np.logspace(0, 3, 50)   #sets the axis space - returns from log 0 to log 3 in 50 equal increments\n",
    "    y = [data.loc[(data >= xi).all(axis=1)].shape[0] for xi in x] #This filters the df to contain the number \n",
    "#of cells (rows) that meet each iteration, and shape[0] essentially returns the number of rows (ie/ the dimension on axis = 0)\n",
    "    \n",
    "    a = data.columns.levels[1]\n",
    "    \n",
    "    ax[count].plot(x, y, color = 'red')\n",
    "    ax[count].set_yscale('log')\n",
    "    ax[count].set_xscale('log')\n",
    "    ax[count].axvline(10, ls = '--')\n",
    "    ax[count].axvline(100, ls = '--')\n",
    "    #ax[count].axhline(2200, ls = '--')\n",
    "    #ax[count].axhline(780, ls = '--')\n",
    "    ax[count].set_xlabel('Number of reads')\n",
    "    ax[count].set_ylabel('Number of cells')\n",
    "    ax[count].set_title('Amplicon = ' + a)\n",
    "    \n",
    "fig.suptitle('RN - NEs with >x per amplicon', fontsize=16)        \n",
    "fig.savefig('../Results/Amp_counts/RN_amp_counts_per_cell_per_amplicons_NEs.png',dpi=600) \n",
    "#plt.close() #Plot just goes to file and isn't displayed"
   ]
  },
  {
   "cell_type": "code",
   "execution_count": null,
   "metadata": {},
   "outputs": [],
   "source": [
    "#Plot each individual amplicon for EL\n",
    "fig, ax = plt.subplots(2,3, figsize = (16, 8))\n",
    "fig.subplots_adjust(hspace = 1, wspace=.5)\n",
    "ax = ax.ravel()\n",
    "count = -1\n",
    "\n",
    "for z in range(6):\n",
    "    count = count + 1\n",
    "    data = EL_amps_plate.iloc[: , z].to_frame()\n",
    "    x = np.logspace(0, 3, 50)   #sets the axis space - returns from log 0 to log 3 in 50 equal increments\n",
    "    y = [data.loc[(data >= xi).all(axis=1)].shape[0] for xi in x] #This filters the df to contain the number \n",
    "#of cells (rows) that meet each iteration, and shape[0] essentially returns the number of rows (ie/ the dimension on axis = 0)\n",
    "    \n",
    "    a = data.columns.levels[1]\n",
    "    \n",
    "    ax[count].plot(x, y, color = 'red')\n",
    "    ax[count].set_yscale('log')\n",
    "    ax[count].set_xscale('log')\n",
    "    ax[count].axvline(10, ls = '--')\n",
    "    ax[count].axvline(100, ls = '--')\n",
    "    #ax[count].axhline(2200, ls = '--')\n",
    "    #ax[count].axhline(780, ls = '--')\n",
    "    ax[count].set_xlabel('Number of reads')\n",
    "    ax[count].set_ylabel('Number of cells')\n",
    "    ax[count].set_title('Amplicon = ' + a)\n",
    "    \n",
    "fig.suptitle('EL - cells with >x per amplicon', fontsize=16)        \n",
    "#fig.savefig('../Results/Amp_counts/EL_amp_counts_per_cell_per_amplicons.png',dpi=600) \n",
    "#plt.close() #Plot just goes to file and isn't displayed"
   ]
  },
  {
   "cell_type": "code",
   "execution_count": null,
   "metadata": {},
   "outputs": [],
   "source": [
    "#Plot each individual amplicon for GR\n",
    "fig, ax = plt.subplots(2,3, figsize = (16, 8))\n",
    "fig.subplots_adjust(hspace = 1, wspace=.5)\n",
    "ax = ax.ravel()\n",
    "count = -1\n",
    "\n",
    "for z in range(2):\n",
    "    count = count + 1\n",
    "    data = GR_amps_plate.iloc[: , z].to_frame()\n",
    "    x = np.logspace(0, 3, 50)   #sets the axis space - returns from log 0 to log 3 in 50 equal increments\n",
    "    y = [data.loc[(data >= xi).all(axis=1)].shape[0] for xi in x] #This filters the df to contain the number \n",
    "#of cells (rows) that meet each iteration, and shape[0] essentially returns the number of rows (ie/ the dimension on axis = 0)\n",
    "    \n",
    "    a = data.columns.levels[1]\n",
    "    \n",
    "    ax[count].plot(x, y, color = 'red')\n",
    "    ax[count].set_yscale('log')\n",
    "    ax[count].set_xscale('log')\n",
    "    ax[count].axvline(10, ls = '--')\n",
    "    ax[count].axvline(100, ls = '--')\n",
    "    #ax[count].axhline(2200, ls = '--')\n",
    "    #ax[count].axhline(780, ls = '--')\n",
    "    ax[count].set_xlabel('Number of reads')\n",
    "    ax[count].set_ylabel('Number of cells')\n",
    "    ax[count].set_title('Amplicon = ' + a)\n",
    "    \n",
    "fig.suptitle('GR - cells with >x per amplicon', fontsize=16)        \n",
    "#fig.savefig('../Results/Amp_counts/GR_amp_counts_per_cell_per_amplicons.png',dpi=600) \n",
    "#plt.close() #Plot just goes to file and isn't displayed"
   ]
  },
  {
   "cell_type": "code",
   "execution_count": null,
   "metadata": {},
   "outputs": [],
   "source": [
    "#Start looking at alleles for RN - first identify the wells that contain cells with enough amplicons\n",
    "RN_allele_plate = df.loc[df['Patient'].isin(['RN'])] #Make df with just RN data\n",
    "RN_allele_plate = RN_allele_plate.drop(columns = 'Patient') #Drop the Patient ID column and other unwanted cols\n",
    "\n",
    "#Find the cells/wells that contain >100 reads for the selected amplicons and turn into a list \n",
    "#Re-arrange the table\n",
    "test = RN_allele_plate.groupby(['Plate', 'Well', 'Amplicon']).sum()\n",
    "test = test.unstack()\n",
    "test = test.iloc[:, 0:4] #Just keep the columns of interest\n",
    "test = test.loc[(test >= 100).all(axis=1)] #test contains just the rows with cells we want - use this to create a filter or key\n",
    "test.stack()\n",
    "#Make the plate and well info a single column and put in a list\n",
    "test['Plate'] = test.index.get_level_values(0)  #These lines send indexes to columns\n",
    "test['Well'] = test.index.get_level_values(1)\n",
    "test['Plate_Well'] = test['Plate'].astype(str) + '_' + test['Well'].astype(str)\n",
    "RN_wells = test['Plate_Well'].to_list()\n",
    "print(len(RN_wells))"
   ]
  },
  {
   "cell_type": "code",
   "execution_count": null,
   "metadata": {},
   "outputs": [],
   "source": [
    "#Now extract the data just for the desired cells/wells\n",
    "#This could probably be coded more cleanly, but can't be bothered fixing now\n",
    "test2 = RN_allele_plate\n",
    "test2['Plate_Well'] = test2['Plate'].astype(str) + '_' + test2['Well'].astype(str)\n",
    "test3 = test2[test2['Plate_Well'].isin(RN_wells)] #keep the wells identified before\n",
    "test3 = test3[test3['Amplicon'].isin(['RN_RUNX1_c', 'RN_RUNX1_g', 'RN_SRSF2', 'RN_TET2a'] )] #keep the amplicons that worked\n",
    "test3 #Sub df with just the numbers of interest  "
   ]
  },
  {
   "cell_type": "code",
   "execution_count": null,
   "metadata": {},
   "outputs": [],
   "source": [
    "#Calculates the allele frequency\n",
    "#test5 is the df in the right format for plotting\n",
    "test4 = test3\n",
    "test4 = test4.iloc[:, 0:1].unstack(level = 3)\n",
    "test4['Total'] = test4.iloc[: , 0] + test4.iloc[: , 1]\n",
    "test4['Mut_freq'] = test4.iloc[:, 0]/test4['Total']\n",
    "test5 = test4.drop(columns = ['Reads', 'Total'])\n",
    "test5['Plate'] = test5.index.get_level_values(0)\n",
    "test5['Amplicon'] = test5.index.get_level_values(2)\n",
    "test5['Cell_type'] = test5['Plate'].replace(plate_cell_dict)\n",
    "test5['Well'] = test5.index.get_level_values(1)\n",
    "test5['Plate_Well'] = test5['Plate'].astype(str) + '_' + test5['Well'].astype(str)\n",
    "test5.to_csv('../Results/Geno_counts/geno_counts_frequencies.tsv', index = None, sep = '\\t')\n",
    "test4.to_csv('../Results/Geno_counts/geno_counts_frequencies_raw_reads.tsv', index = None, sep = '\\t')\n",
    "#Next - reassign cell type and plot allele frequencies in total and then by cell type"
   ]
  },
  {
   "cell_type": "code",
   "execution_count": null,
   "metadata": {},
   "outputs": [],
   "source": [
    "#Make a list of cell types\n",
    "#Note there are no neutrophils because the RUNX1_c amplicon isn't great (probably not expressed)\n",
    "celltypes = test5['Cell_type'].drop_duplicates().to_list()\n",
    "celltypes"
   ]
  },
  {
   "cell_type": "code",
   "execution_count": null,
   "metadata": {},
   "outputs": [],
   "source": [
    "#Plot wells by cell type\n",
    "fig, ax = plt.subplots(2,2, figsize = (16, 8))\n",
    "fig.subplots_adjust(hspace = 1, wspace=.5)\n",
    "ax = ax.ravel()\n",
    "\n",
    "count = -1\n",
    "\n",
    "for cell in celltypes:\n",
    "    count = count + 1\n",
    "    ax[count] = sns.violinplot(x='Amplicon', y='Mut_freq', data=test5.loc[test5['Cell_type'].isin([cell])], ax = ax[count], palette = 'Set2')\n",
    "    ax[count].set_title(str(cell))\n",
    "    ax[count].set_ylim(0,1)\n",
    "    \n",
    "fig.suptitle('Mut_freq per amplicon per cell', fontsize=16)\n",
    "fig.savefig('../Results/Geno_counts/All_mut_freq_per_amplicon.png',dpi=600)  \n",
    "\n",
    "#plt.close() #Plot just goes to file and isn't displayed    "
   ]
  },
  {
   "cell_type": "code",
   "execution_count": null,
   "metadata": {},
   "outputs": [],
   "source": [
    "#let's look at cells with high frequency of TET2a mut\n",
    "test6 = test5.loc[test5['Amplicon'].isin(['RN_TET2a'])].loc[test5['Mut_freq'] > 0.5]\n",
    "TET2a_high = test6['Plate_Well'].to_list()\n",
    "\n",
    "#Or TET2a low\n",
    "\n",
    "test9 = test5.loc[test5['Amplicon'].isin(['RN_TET2a'])].loc[test5['Mut_freq'] < 0.2]\n",
    "TET2a_low = test9['Plate_Well'].to_list()\n",
    "\n",
    "#Or high freq of RUNX1_c\n",
    "test7 = test5.loc[test5['Amplicon'].isin(['RN_RUNX1_c'])].loc[test5['Mut_freq'] > 0.3]\n",
    "RUNX1_c_high = test7['Plate_Well'].to_list()\n",
    "\n",
    "\n",
    "#Or high freq of SRSF2\n",
    "test8 = test5.loc[test5['Amplicon'].isin(['RN_SRSF2'])].loc[test5['Mut_freq'] > 0.3]\n",
    "SRSF2_high = test8['Plate_Well'].to_list()"
   ]
  },
  {
   "cell_type": "code",
   "execution_count": null,
   "metadata": {},
   "outputs": [],
   "source": [
    "#How about combinations?\n",
    "#high RUNX_c and low TET2a\n",
    "test10 = test5[test5['Plate_Well'].isin(RUNX1_c_high)]\n",
    "test11 = test10[test10['Plate_Well'].isin(TET2a_low)]\n",
    "TET2a_h_RUNX1_c_l = test11['Plate_Well'].to_list()"
   ]
  },
  {
   "cell_type": "code",
   "execution_count": null,
   "metadata": {},
   "outputs": [],
   "source": [
    "#Plot wells by cell type, TET2 high cells only\n",
    "fig, ax = plt.subplots(2,2, figsize = (16, 8))\n",
    "fig.subplots_adjust(hspace = 1, wspace=.5)\n",
    "ax = ax.ravel()\n",
    "\n",
    "count = -1\n",
    "\n",
    "for cell in celltypes:\n",
    "    count = count + 1\n",
    "    ax[count] = sns.violinplot(x='Amplicon', y='Mut_freq', data=test5[test5['Plate_Well'].isin(TET2a_high)].loc[test5['Cell_type'].isin([cell])], ax = ax[count], palette = 'Set2')\n",
    "    ax[count].set_title(str(cell))\n",
    "    ax[count].set_ylim(0,1)\n",
    "    \n",
    "fig.suptitle('Mut_freq per amplicon per cell - TET2a high mut freq cells', fontsize=16)\n",
    "fig.savefig('../Results/Geno_counts/TET2a_high_mut_freq_per_amplicon.png',dpi=600)  \n",
    "\n",
    "#plt.close() #Plot just goes to file and isn't displayed       "
   ]
  },
  {
   "cell_type": "code",
   "execution_count": null,
   "metadata": {},
   "outputs": [],
   "source": [
    "#Plot wells by cell type, RUNX1_g high cells only\n",
    "fig, ax = plt.subplots(2,2, figsize = (16, 8))\n",
    "fig.subplots_adjust(hspace = 1, wspace=.5)\n",
    "ax = ax.ravel()\n",
    "\n",
    "count = -1\n",
    "\n",
    "for cell in celltypes:\n",
    "    count = count + 1\n",
    "    ax[count] = sns.violinplot(x='Amplicon', y='Mut_freq', data=test5[test5['Plate_Well'].isin(RUNX1_c_high)].loc[test5['Cell_type'].isin([cell])], ax = ax[count], palette = 'Set2')\n",
    "    ax[count].set_title(str(cell))\n",
    "    ax[count].set_ylim(0,1)\n",
    "    \n",
    "fig.suptitle('Mut_freq per amplicon per cell - RUNX1_c high mut freq cells', fontsize=16)\n",
    "fig.savefig('../Results/Geno_counts/RUNX1_c_high_mut_freq_per_amplicon.png',dpi=600)  \n",
    "\n",
    "#plt.close() #Plot just goes to file and isn't displayed          "
   ]
  },
  {
   "cell_type": "code",
   "execution_count": null,
   "metadata": {},
   "outputs": [],
   "source": [
    "#Plot wells by cell type, RUNX1_g high cells only\n",
    "fig, ax = plt.subplots(2,2, figsize = (16, 8))\n",
    "fig.subplots_adjust(hspace = 1, wspace=.5)\n",
    "ax = ax.ravel()\n",
    "\n",
    "count = -1\n",
    "\n",
    "for cell in celltypes:\n",
    "    count = count + 1\n",
    "    ax[count] = sns.violinplot(x='Amplicon', y='Mut_freq', data=test5[test5['Plate_Well'].isin(SRSF2_high)].loc[test5['Cell_type'].isin([cell])], ax = ax[count], palette = 'Set2')\n",
    "    ax[count].set_title(str(cell))\n",
    "    ax[count].set_ylim(0,1)\n",
    "    \n",
    "fig.suptitle('Mut_freq per amplicon per cell - SRSF2 high mut freq cells', fontsize=16)\n",
    "fig.savefig('../Results/Geno_counts/SRSF2_high_mut_freq_per_amplicon.png',dpi=600)  \n",
    "\n",
    "#plt.close() #Plot just goes to file and isn't displayed          "
   ]
  },
  {
   "cell_type": "code",
   "execution_count": null,
   "metadata": {},
   "outputs": [],
   "source": [
    "#Plot wells by cell type, TET2a low and RUNX1_c high cells only\n",
    "fig, ax = plt.subplots(2,2, figsize = (16, 8))\n",
    "fig.subplots_adjust(hspace = 1, wspace=.5)\n",
    "ax = ax.ravel()\n",
    "\n",
    "count = -1\n",
    "\n",
    "for cell in celltypes:\n",
    "    count = count + 1\n",
    "    ax[count] = sns.violinplot(x='Amplicon', y='Mut_freq', data=test5[test5['Plate_Well'].isin(TET2a_h_RUNX1_c_l)].loc[test5['Cell_type'].isin([cell])], ax = ax[count], palette = 'Set2')\n",
    "    ax[count].set_title(str(cell))\n",
    "    ax[count].set_ylim(0,1)\n",
    "    \n",
    "fig.suptitle('Mut_freq per amplicon per cell - TET2a low, RUNX1_g high mut freq cells', fontsize=16)\n",
    "fig.savefig('../Results/Geno_counts/T2_h_R1_l_mut_freq_per_amplicon.png',dpi=600)  \n",
    "\n",
    "#plt.close() #Plot just goes to file and isn't displayed          \n",
    "\n",
    "\n"
   ]
  },
  {
   "cell_type": "code",
   "execution_count": null,
   "metadata": {},
   "outputs": [],
   "source": [
    "#Fabio suggested trying cumulative plots\n",
    "\n",
    "RN_amplicons = test5['Amplicon'].drop_duplicates().to_list()\n",
    "\n",
    "fig, ax = plt.subplots(2,2, figsize = (16, 8))\n",
    "fig.subplots_adjust(hspace = 1, wspace=.5)\n",
    "ax = ax.ravel()\n",
    "count = -1\n",
    "\n",
    "for cell in celltypes:\n",
    "    \n",
    "    count += 1\n",
    "\n",
    "    for amp in RN_amplicons:\n",
    "\n",
    "        x = np.sort(test5.loc[test5['Cell_type'].isin([cell])].loc[test5['Amplicon'].isin([amp])]['Mut_freq'])\n",
    "        y = 1.0 - np.linspace(0, 1, len(x))\n",
    "        ax[count].plot(x, y, label = amp)\n",
    "        ax[count].set_title(str(cell))\n",
    "        ax[count].set_xlabel('Mutation frequency')\n",
    "        ax[count].set_ylabel('1 - mutation frequency')\n",
    "        ax[count].legend()\n",
    "\n",
    "fig.suptitle('Mut_freq per amplicon per cell', fontsize=16)\n",
    "fig.savefig('../Results/Geno_counts/All_mut_freq_per_amplicon_2.png',dpi=600)  \n",
    "\n",
    "#plt.close() #Plot just goes to file and isn't displayed    "
   ]
  },
  {
   "cell_type": "code",
   "execution_count": null,
   "metadata": {},
   "outputs": [],
   "source": [
    "#Understanding the plots\n",
    "for cell in celltypes:\n",
    "\n",
    "    for amp in RN_amplicons:\n",
    "        #x = test5.loc[test5['Cell_type'].isin([cell])].loc[test5['Amplicon'].isin([amp])]['Mut_freq']\n",
    "        \n",
    "        x = np.sort(test5.loc[test5['Cell_type'].isin([cell])].loc[test5['Amplicon'].isin([amp])]['Mut_freq'])\n",
    "        y = 1.0 - np.linspace(0, 1, len(x))\n",
    "        #print(y)"
   ]
  },
  {
   "cell_type": "code",
   "execution_count": null,
   "metadata": {},
   "outputs": [],
   "source": [
    "fig, ax = plt.subplots()\n",
    "x = [0,0,0,0,0.25,0.25,0.25,0.25,0.5,0.5,0.5,0.5,0.75,0.75,0.75,0.75,1,1,1,1,]\n",
    "y = 1.0 - np.linspace(0, 1, len(x))\n",
    "ax.plot(x, y)"
   ]
  },
  {
   "cell_type": "code",
   "execution_count": null,
   "metadata": {},
   "outputs": [],
   "source": [
    "#Would frequency histograms help here?\n",
    "\n",
    "RN_amplicons = test5['Amplicon'].drop_duplicates().to_list()\n",
    "\n",
    "\n",
    "fig, ax = plt.subplots(2,2, figsize = (16, 8))\n",
    "fig.subplots_adjust(hspace = 1, wspace=.5)\n",
    "ax = ax.ravel()\n",
    "count = -1\n",
    "\n",
    "kwargs = dict(hist_kws={'alpha':.6}, kde_kws={'linewidth':2})\n",
    "\n",
    "for cell in celltypes:\n",
    "    \n",
    "    count += 1\n",
    "\n",
    "    for amp in RN_amplicons:\n",
    "\n",
    "        x = test5.loc[test5['Cell_type'].isin([cell])].loc[test5['Amplicon'].isin([amp])]['Mut_freq']\n",
    "        ax[count] = sns.distplot(x,  bins = 10, ax = ax[count], label= amp, **kwargs)\n",
    "        ax[count].set_title(str(cell))\n",
    "        ax[count].set_xlim(0,1)\n",
    "        ax[count].set_xlabel('Mutation frequency')\n",
    "        ax[count].set_ylabel('Number of cells')\n",
    "        ax[count].legend()\n",
    "\n",
    "fig.suptitle('Mut_freq per amplicon per cell', fontsize=16)\n",
    "fig.savefig('../Results/Geno_counts/All_mut_freq_per_amplicon_3.png',dpi=600)  \n",
    "\n",
    "#plt.close() #Plot just goes to file and isn't displayed    "
   ]
  },
  {
   "cell_type": "code",
   "execution_count": null,
   "metadata": {},
   "outputs": [],
   "source": [
    "#Would frequency histograms help here? Trying all cells here\n",
    "\n",
    "RN_amplicons = test5['Amplicon'].drop_duplicates().to_list()\n",
    "\n",
    "\n",
    "fig, ax = plt.subplots()\n",
    "#fig.subplots_adjust(hspace = 1, wspace=.5)\n",
    "\n",
    "count = -1\n",
    "\n",
    "kwargs = dict(hist_kws={'alpha':.6}, kde_kws={'linewidth':2})\n",
    "\n",
    "for amp in RN_amplicons:\n",
    "\n",
    "    x = test5.loc[test5['Cell_type'].isin(['CD34'])].loc[test5['Amplicon'].isin([amp])]['Mut_freq']\n",
    "    ax = sns.distplot(x,  bins = 10, ax = ax, label= amp, **kwargs)\n",
    "    #ax.set_title(str(cell))\n",
    "    ax.set_xlim(0,1)\n",
    "    ax.set_xlabel('Mutation frequency')\n",
    "    ax.set_ylabel('Number of cells')\n",
    "    ax.legend()\n",
    "\n",
    "fig.suptitle('Mut_freq per amplicon per cell', fontsize=16)\n",
    "#fig.savefig('../Results/Geno_counts/All_mut_freq_per_amplicon_4.png',dpi=600)  \n",
    "\n",
    "#plt.close() #Plot just goes to file and isn't displayed    "
   ]
  },
  {
   "cell_type": "code",
   "execution_count": null,
   "metadata": {},
   "outputs": [],
   "source": [
    "#Trying some pairwise comparisons\n",
    "fig, ax = plt.subplots()\n",
    "\n",
    "\n",
    "x = test5.loc[test5['Amplicon'].isin(['RN_TET2a'])]['Mut_freq']\n",
    "y = test5.loc[test5['Amplicon'].isin(['RN_SRSF2'])]['Mut_freq']\n",
    "\n",
    "\n",
    "ax.scatter(x,y)\n",
    "ax.set_xlabel('TET2a')\n",
    "ax.set_ylabel('SRSF2')\n",
    "ax.set_title('All cells')"
   ]
  },
  {
   "cell_type": "code",
   "execution_count": null,
   "metadata": {},
   "outputs": [],
   "source": [
    "test5"
   ]
  },
  {
   "cell_type": "code",
   "execution_count": null,
   "metadata": {},
   "outputs": [],
   "source": [
    "#trying to assign arbitrary genotypes - cut off at 0 - 0.2, 0.4 - 0.6,  0.8 - 1.0 (wt, het, hom)\n",
    "geno_assign = test5\n",
    "\n",
    "conditions = [(geno_assign['Mut_freq'] <= 0.25), (geno_assign['Mut_freq'] > 0.25) & (geno_assign['Mut_freq'] < 0.75), (geno_assign['Mut_freq']) >= 0.75 ]\n",
    "values = ['W', 'h', 'H']\n",
    "print(values)\n",
    "\n",
    "geno_assign['Genotype'] = np.select(conditions, values)\n",
    "\n",
    "geno_assign"
   ]
  },
  {
   "cell_type": "code",
   "execution_count": null,
   "metadata": {},
   "outputs": [],
   "source": [
    "f = geno_assign.unstack(2)\n",
    "f = f.drop(columns = ['Mut_freq', 'Plate',  'Cell_type', 'Well', 'Plate_Well']) #drop unwanted columns\n",
    "\n",
    "#Rearrange df\n",
    "f = f.stack()\n",
    "f = f.loc[f['Amplicon'].isin(['RN_RUNX1_g', 'RN_SRSF2', 'RN_TET2a'])]\n",
    "f = f.drop(columns = ['Amplicon'])\n",
    "f = f.unstack()\n",
    "f.columns = ['RN_RUNX1_g', 'RN_SRSF2', 'RN_TET2a'] #renaming as somethng went funny in previous steps\n",
    "\n",
    "#Check which genotypes are present for each amplicon\n",
    "print(len(f['RN_RUNX1_g'].drop_duplicates().to_list()), len(f['RN_SRSF2'].drop_duplicates().to_list()), len(f['RN_TET2a'].drop_duplicates().to_list()))\n",
    "#runx = f['RN_RUNX1_g'].drop_duplicates().to_list()\n",
    "#srsf2 = f['RN_SRSF2'].drop_duplicates().to_list()\n",
    "#tet2a = f['RN_TET2a'].drop_duplicates().to_list()\n",
    "#print(runx, srsf2, tet2a) #all present for all amplicons ie/ 27 possible haplotypes\n"
   ]
  },
  {
   "cell_type": "code",
   "execution_count": null,
   "metadata": {},
   "outputs": [],
   "source": [
    "f['haplotype'] = 'R' + f['RN_RUNX1_g'] + '_S' + f['RN_SRSF2'] + '_T' + f['RN_TET2a']\n",
    "#f['haplotype'] = f['RN_RUNX1_g'] + f['RN_SRSF2'] + f['RN_TET2a']\n",
    "haps = f['haplotype'].drop_duplicates().to_list()\n",
    "print(len(haps)) # haplotypes (3 arbitrary classes, WT (W), heterozygote (h), homozygote (H))\n",
    "f['Cell_type'] = f.index.get_level_values(0)\n",
    "f = f.replace({\"Cell_type\": plate_cell_dict})\n",
    "f = f.drop(columns = ['RN_RUNX1_g', 'RN_SRSF2', 'RN_TET2a'])\n",
    "f"
   ]
  },
  {
   "cell_type": "code",
   "execution_count": null,
   "metadata": {},
   "outputs": [],
   "source": [
    "f['haplotype'].value_counts().plot(kind = 'pie')"
   ]
  },
  {
   "cell_type": "code",
   "execution_count": null,
   "metadata": {},
   "outputs": [],
   "source": [
    "fig, axes = plt.subplots(2,2, figsize = (16,8))\n",
    "fig.subplots_adjust(hspace = 1, wspace=.5)\n",
    "ax = axes.ravel()\n",
    "count = -1\n",
    "\n",
    "for cell in celltypes:\n",
    "    count += 1\n",
    "    ax[count] = f.loc[f['Cell_type'].isin([cell])]['haplotype'].value_counts().plot(kind = 'bar', ax = ax[count])\n",
    "    ax[count].set_title(str(cell)) \n",
    "    "
   ]
  },
  {
   "cell_type": "code",
   "execution_count": null,
   "metadata": {},
   "outputs": [],
   "source": [
    "celltypes"
   ]
  },
  {
   "cell_type": "code",
   "execution_count": null,
   "metadata": {},
   "outputs": [],
   "source": [
    "#trying to assign arbitrary genotypes - just try 2\n",
    "geno_assign2 = test5\n",
    "\n",
    "conditions = [(geno_assign2['Mut_freq'] <= 0.25), (geno_assign2['Mut_freq']) > 0.25 ]\n",
    "values = ['w', 'm']\n",
    "print(values)\n",
    "\n",
    "geno_assign2['Genotype'] = np.select(conditions, values)\n",
    "\n",
    "geno_assign2"
   ]
  },
  {
   "cell_type": "code",
   "execution_count": null,
   "metadata": {},
   "outputs": [],
   "source": [
    "g = geno_assign2.unstack(2)\n",
    "g = g.drop(columns = ['Mut_freq', 'Plate',  'Cell_type', 'Well', 'Plate_Well']) #drop unwanted columns\n",
    "\n",
    "#Rearrange df\n",
    "g = g.stack()\n",
    "g = g.loc[g['Amplicon'].isin(['RN_RUNX1_g', 'RN_SRSF2', 'RN_TET2a'])]\n",
    "g = g.drop(columns = ['Amplicon'])\n",
    "g = g.unstack()\n",
    "g.columns = ['RN_RUNX1_g', 'RN_SRSF2', 'RN_TET2a'] #renaming as somethng went funny in previous steps\n",
    "g['haplotype'] = 'R' + g['RN_RUNX1_g'] + '_S' + g['RN_SRSF2'] + '_T' + g['RN_TET2a']\n",
    "haps = g['haplotype'].drop_duplicates().to_list()\n",
    "print(len(haps)) # haplotypes (2 arbitrary classes, WT or Mutated )\n",
    "g['Cell_type'] = g.index.get_level_values(0)\n",
    "g = g.replace({\"Cell_type\": plate_cell_dict})\n",
    "g = g.drop(columns = ['RN_RUNX1_g', 'RN_SRSF2', 'RN_TET2a'])\n",
    "g"
   ]
  },
  {
   "cell_type": "code",
   "execution_count": null,
   "metadata": {},
   "outputs": [],
   "source": [
    "g.loc[g['Cell_type'].isin(['CD34'])]['haplotype'].value_counts().plot(kind = 'bar')"
   ]
  },
  {
   "cell_type": "code",
   "execution_count": null,
   "metadata": {},
   "outputs": [],
   "source": [
    "g.loc[g['Cell_type'].isin(['CD34+/38-'])]['haplotype'].value_counts().plot(kind = 'bar')"
   ]
  },
  {
   "cell_type": "code",
   "execution_count": null,
   "metadata": {},
   "outputs": [],
   "source": [
    "g.loc[g['Cell_type'].isin(['nBCs'])]['haplotype'].value_counts().plot(kind = 'bar')"
   ]
  },
  {
   "cell_type": "code",
   "execution_count": null,
   "metadata": {},
   "outputs": [],
   "source": [
    "g.loc[g['Cell_type'].isin(['Monocytes'])]['haplotype'].value_counts().plot(kind = 'bar')"
   ]
  },
  {
   "cell_type": "code",
   "execution_count": null,
   "metadata": {},
   "outputs": [],
   "source": [
    "test5.to_csv('../Results/high_confidence_cells_756.tsv', index = None, sep = '\\t')"
   ]
  },
  {
   "cell_type": "code",
   "execution_count": null,
   "metadata": {},
   "outputs": [],
   "source": [
    "g.to_csv('../Results/high_confidence_cells_756.tsv',  sep = '\\t')"
   ]
  },
  {
   "cell_type": "code",
   "execution_count": null,
   "metadata": {},
   "outputs": [],
   "source": [
    "goodplates = test5['Plate'].drop_duplicates().to_list\n",
    "goodplates #Plates that appear in the list of 756 good cells"
   ]
  },
  {
   "cell_type": "code",
   "execution_count": null,
   "metadata": {},
   "outputs": [],
   "source": [
    "#Locate lower stringency cells that might be OK for Sarower to test\n",
    "OK_cells = RN_amps_plate.iloc[: , [1,2,3,5]] #select the columns to look at\n",
    "OK_cells = OK_cells.loc[(OK_cells >= 10).all(axis=1)]\n",
    "OK_cells['Plate']\n",
    "OK_plate = "
   ]
  },
  {
   "cell_type": "code",
   "execution_count": null,
   "metadata": {},
   "outputs": [],
   "source": [
    "#Locate neutrophils that might be OK for Sarower to test\n",
    "OK_NE = RN_amps_NE.iloc[: , [1,2,3,5]] #just the gDNA amplicons\n",
    "#OK_NE.loc[(OK_NE >= 20).all(axis=1)]\n",
    "#OK_NE"
   ]
  },
  {
   "cell_type": "code",
   "execution_count": null,
   "metadata": {},
   "outputs": [],
   "source": [
    "fig, axes = plt.subplots(2,2, figsize = (16,8))\n",
    "fig.subplots_adjust(hspace = 1, wspace=.5)\n",
    "ax = axes.ravel()\n",
    "count = -1\n",
    "\n",
    "for cell in celltypes:\n",
    "    count += 1\n",
    "    ax[count] = g.loc[g['Cell_type'].isin([cell])]['haplotype'].value_counts().plot(kind = 'bar', ax = ax[count])\n",
    "    ax[count].set_title(str(cell))\n",
    "    ax[count].set_ylabel('# cells')\n",
    "    ax[count].set_xlabel('haplotype')"
   ]
  },
  {
   "cell_type": "code",
   "execution_count": null,
   "metadata": {},
   "outputs": [],
   "source": [
    "#change the plot order (least to most mutated)\n",
    "#Start a new notebook for haplotype analysis"
   ]
  },
  {
   "cell_type": "code",
   "execution_count": null,
   "metadata": {},
   "outputs": [],
   "source": []
  }
 ],
 "metadata": {
  "kernelspec": {
   "display_name": "Python 3",
   "language": "python",
   "name": "python3"
  },
  "language_info": {
   "codemirror_mode": {
    "name": "ipython",
    "version": 3
   },
   "file_extension": ".py",
   "mimetype": "text/x-python",
   "name": "python",
   "nbconvert_exporter": "python",
   "pygments_lexer": "ipython3",
   "version": "3.8.3"
  }
 },
 "nbformat": 4,
 "nbformat_minor": 4
}
